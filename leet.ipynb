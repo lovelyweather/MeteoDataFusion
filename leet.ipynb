{
 "cells": [
  {
   "cell_type": "markdown",
   "metadata": {},
   "source": [
    "### 03 实现一个函数，把字符串s中的每个空格替换为%20\n",
    "\n",
    "eg. 输入 s = \"we are happy.\""
   ]
  },
  {
   "cell_type": "code",
   "execution_count": 1,
   "metadata": {},
   "outputs": [
    {
     "name": "stdout",
     "output_type": "stream",
     "text": [
      "we%20are%20happy.\n"
     ]
    }
   ],
   "source": [
    "s = \"we are happy.\"\n",
    "s_new = \"\"\n",
    "for i in s:\n",
    "    if i == \" \":\n",
    "        s_new = s_new + \"%20\"\n",
    "    else:\n",
    "        s_new = s_new + i\n",
    "print(s_new)"
   ]
  },
  {
   "cell_type": "markdown",
   "metadata": {},
   "source": [
    "knowledge：list;\n",
    "time complexity：O(N);\n",
    "space complexity: O(N)"
   ]
  },
  {
   "cell_type": "markdown",
   "metadata": {},
   "source": [
    "### 06 从尾到头打印链表\n",
    "eg. 输入：head = [1,3,2]"
   ]
  },
  {
   "cell_type": "code",
   "execution_count": 2,
   "metadata": {},
   "outputs": [],
   "source": [
    "def printArr(a:list):\n",
    "    return [a.pop() for i in range(0,len(a))]"
   ]
  },
  {
   "cell_type": "code",
   "execution_count": 28,
   "metadata": {},
   "outputs": [
    {
     "data": {
      "text/plain": [
       "[1, 3, 2]"
      ]
     },
     "execution_count": 28,
     "metadata": {},
     "output_type": "execute_result"
    }
   ],
   "source": [
    "head = [2,3,1]\n",
    "printArr(head)"
   ]
  },
  {
   "cell_type": "markdown",
   "metadata": {},
   "source": [
    "knowledge：\n",
    "列表list可以是栈，先入（push）后出（pop），以上解法用的是栈。"
   ]
  },
  {
   "cell_type": "code",
   "execution_count": 2,
   "metadata": {},
   "outputs": [],
   "source": [
    "class ListNode:\n",
    "    def __init__(self, x):\n",
    "        self.value = x\n",
    "        self.next = None\n",
    "\n",
    "#建立链表\n",
    "n1 = ListNode(2) \n",
    "n2 = ListNode(3)\n",
    "n3 = ListNode(1)\n",
    "\n",
    "n1.next = n2\n",
    "n2.next = n3"
   ]
  },
  {
   "cell_type": "code",
   "execution_count": 29,
   "metadata": {},
   "outputs": [],
   "source": [
    "class Solution():\n",
    "    def reversePrint(self, head:ListNode) :\n",
    "        return self.reversePrint(head.next) + [head.value] if head else [] # list中+就是添加元素。"
   ]
  },
  {
   "cell_type": "code",
   "execution_count": 30,
   "metadata": {},
   "outputs": [
    {
     "data": {
      "text/plain": [
       "[1, 3, 2]"
      ]
     },
     "execution_count": 30,
     "metadata": {},
     "output_type": "execute_result"
    }
   ],
   "source": [
    "ans = Solution()\n",
    "ans.reversePrint(n1)"
   ]
  },
  {
   "cell_type": "markdown",
   "metadata": {},
   "source": [
    "knowledge: 递归法。\n",
    "\n",
    "class可以没有__init__()函数，先要实例化instance这个类，然后调用其方法。"
   ]
  },
  {
   "cell_type": "code",
   "execution_count": 6,
   "metadata": {},
   "outputs": [],
   "source": [
    "class Solution():\n",
    "    def reversePrint(self, head:ListNode) :\n",
    "        stack = []\n",
    "        while head:\n",
    "            stack.append(head.value)\n",
    "            head = head.next\n",
    "        return stack[::-1]"
   ]
  },
  {
   "cell_type": "code",
   "execution_count": 4,
   "metadata": {},
   "outputs": [
    {
     "data": {
      "text/plain": [
       "[1, 3, 2]"
      ]
     },
     "execution_count": 4,
     "metadata": {},
     "output_type": "execute_result"
    }
   ],
   "source": [
    "ans = Solution()\n",
    "ans.reversePrint(n1)"
   ]
  },
  {
   "cell_type": "markdown",
   "metadata": {},
   "source": [
    "### 09. 用两个栈实现队列\n",
    "两个栈实现一个队列。实现两个函数appendTail和deleteHead；\n",
    "appendTail：在队列尾部插入整数；\n",
    "deleteHead：在队列头部删除整数；若队列中没有元素，返回-1."
   ]
  },
  {
   "cell_type": "code",
   "execution_count": 16,
   "metadata": {},
   "outputs": [],
   "source": [
    "class Solution():\n",
    "\n",
    "    def __init__(self):\n",
    "\n",
    "        '''\n",
    "        栈A  栈B\n",
    "        | |  | |\n",
    "        | |  |1|\n",
    "        | |  |2|\n",
    "        思路：\n",
    "        1. 栈A存放队列的元素\n",
    "        2. 栈B存放需要弹出的元素：\n",
    "            如果栈B不为空，弹出栈B最上面的元素；\n",
    "            如果栈B为空，将栈A的元素移到栈B中。\n",
    "            栈A和栈B同时为空，返回-1\n",
    "        '''\n",
    "        self.A, self.B = [], []\n",
    "\n",
    "    def appendTail(self, value: int) -> None:\n",
    "\n",
    "        self.A.append(value)\n",
    "        \n",
    "    def deleteHead(self) -> int:\n",
    "\n",
    "        if self.B:    \n",
    "            return self.B.pop()\n",
    "\n",
    "        if not self.A:\n",
    "            return -1 #执行到return语句时，会退出函数\n",
    "        \n",
    "        if self.A:\n",
    "            self.B = self.A[::-1]\n",
    "            self.A = []    \n",
    "            return self.B.pop()\n",
    "        "
   ]
  },
  {
   "cell_type": "code",
   "execution_count": 18,
   "metadata": {},
   "outputs": [
    {
     "name": "stdout",
     "output_type": "stream",
     "text": [
      "[3]\n",
      "3\n",
      "-1\n",
      "-1\n"
     ]
    }
   ],
   "source": [
    "#测试\n",
    "Cque = Solution()\n",
    "Cque.appendTail(3)\n",
    "print(Cque.A)\n",
    "print(Cque.deleteHead())\n",
    "print(Cque.deleteHead())\n",
    "print(Cque.deleteHead())\n"
   ]
  },
  {
   "cell_type": "markdown",
   "metadata": {},
   "source": [
    "### 30 包含min函数的栈\n",
    "\n",
    "ADT 抽象数据类型。\n",
    "定义栈的数据结构，在该类型中实现一个能够的大栈的最小元素的min函数。min push pop的时间复杂度都是O(1)。\n",
    "注意：min的时间复杂度为O(1)"
   ]
  },
  {
   "cell_type": "code",
   "execution_count": 23,
   "metadata": {},
   "outputs": [],
   "source": [
    "import math\n",
    "class MinStack:\n",
    "\n",
    "    '''\n",
    "    解体思路 -- 难点在于求min的时候时间复杂度是O(1)。考虑用辅助栈方法，辅助栈存储最小值。\n",
    "    '''\n",
    "    \n",
    "    def __init__(self):\n",
    "        self.stack1, self.min_stack = [], []\n",
    "\n",
    "    def push(self,value: int):\n",
    "        self.stack1.append(value)\n",
    "        if self.min_stack == [] or value <= self.min_stack[-1]: # 必须要<=，等于的时候也要压入辅助栈中，否则pop之后再求min的时候就没有这个最小值了。\n",
    "            self.min_stack.append(value)\n",
    "    \n",
    "    def pop(self):\n",
    "        para = self.stack1.pop()\n",
    "        if para == self.min_stack[-1]:\n",
    "            self.min_stack.pop()\n",
    "    \n",
    "    def top(self):\n",
    "        return self.stack1[-1]\n",
    "    \n",
    "    def min(self):\n",
    "        if self.min_stack ==[]:\n",
    "            return [math.inf]\n",
    "        else:\n",
    "            return self.min_stack[-1]"
   ]
  },
  {
   "cell_type": "code",
   "execution_count": 19,
   "metadata": {},
   "outputs": [
    {
     "data": {
      "text/plain": [
       "'\\n示例\\nMinStack()\\nMinStack.push(-2)\\nMinStack.push(0)\\nMinStack.push(-3)\\nminStack.min()  --> return -3\\nminStack.pop()\\nminStack.top()  --> return 0\\nminStack.min()  --> return -2\\n\\n'"
      ]
     },
     "execution_count": 19,
     "metadata": {},
     "output_type": "execute_result"
    }
   ],
   "source": [
    "'''\n",
    "示例\n",
    "MinStack()\n",
    "MinStack.push(0)\n",
    "MinStack.push(0)\n",
    "MinStack.push(-3)\n",
    "minStack.min()  --> return -3\n",
    "minStack.pop()\n",
    "minStack.top()  --> return 0\n",
    "minStack.min()  --> return 0\n",
    "'''"
   ]
  },
  {
   "cell_type": "markdown",
   "metadata": {},
   "source": [
    "### 24 反转链表并输出头节点。"
   ]
  },
  {
   "cell_type": "code",
   "execution_count": 9,
   "metadata": {},
   "outputs": [],
   "source": [
    "class ListNode:\n",
    "    def __init__(self, x):\n",
    "        self.value = x\n",
    "        self.next = None\n",
    "\n",
    "# 建立链表\n",
    "n1 = ListNode(1)\n",
    "n2 = ListNode(2)\n",
    "n3 = ListNode(5)\n",
    "\n",
    "n1.next = n2\n",
    "n2.next = n3  "
   ]
  },
  {
   "cell_type": "code",
   "execution_count": null,
   "metadata": {},
   "outputs": [],
   "source": [
    "class Solution:\n",
    "    def reverseListNode(self, n:ListNode):\n",
    "        stack = []\n",
    "        while n.value:\n",
    "            stack.append(n.value)\n",
    "            n = n.next\n",
    "        stack_r = stack[::-1]\n",
    "        ln = ListNode(stack_r[0])\n",
    "        for i in range(0, len(stack_r)-2):\n",
    "            ln.next = ListNode(stack_r[i+1])\n",
    "            ln_tmp = ln\n",
    "        return ln"
   ]
  },
  {
   "cell_type": "code",
   "execution_count": 44,
   "metadata": {},
   "outputs": [],
   "source": [
    "import numpy as np\n",
    "a = np.ones((3,3,5))"
   ]
  },
  {
   "cell_type": "code",
   "execution_count": 42,
   "metadata": {},
   "outputs": [
    {
     "data": {
      "text/plain": [
       "(3, 3)"
      ]
     },
     "execution_count": 42,
     "metadata": {},
     "output_type": "execute_result"
    }
   ],
   "source": [
    "a.shape[:-1]"
   ]
  },
  {
   "cell_type": "code",
   "execution_count": 46,
   "metadata": {},
   "outputs": [],
   "source": [
    "b = a.reshape((-1, 3, 5))\n"
   ]
  },
  {
   "cell_type": "code",
   "execution_count": 59,
   "metadata": {},
   "outputs": [
    {
     "name": "stdout",
     "output_type": "stream",
     "text": [
      "[[ True  True  True]\n",
      " [ True  True  True]\n",
      " [ True  True  True]]\n",
      "(array([0, 0, 0, 1, 1, 1, 2, 2, 2]), array([0, 1, 2, 0, 1, 2, 0, 1, 2]))\n",
      "[0 0 0 1 1 1 2 2 2]\n"
     ]
    }
   ],
   "source": [
    "#c = np.where()\n",
    "print(np.ones(a.shape[:-1], dtype=np.bool_))\n",
    "beams2correct = np.where(np.ones(a.shape[:-1], dtype=np.bool_))\n",
    "print(beams2correct)\n",
    "print(beams2correct[0])"
   ]
  },
  {
   "cell_type": "code",
   "execution_count": 62,
   "metadata": {},
   "outputs": [
    {
     "data": {
      "text/plain": [
       "array([[1., 1., 1., 1., 1.],\n",
       "       [1., 1., 1., 1., 1.],\n",
       "       [1., 1., 1., 1., 1.],\n",
       "       [1., 1., 1., 1., 1.],\n",
       "       [1., 1., 1., 1., 1.],\n",
       "       [1., 1., 1., 1., 1.],\n",
       "       [1., 1., 1., 1., 1.],\n",
       "       [1., 1., 1., 1., 1.],\n",
       "       [1., 1., 1., 1., 1.]])"
      ]
     },
     "execution_count": 62,
     "metadata": {},
     "output_type": "execute_result"
    }
   ],
   "source": [
    "a[beams2correct]"
   ]
  },
  {
   "cell_type": "code",
   "execution_count": 63,
   "metadata": {},
   "outputs": [
    {
     "data": {
      "text/plain": [
       "array([[1, 2, 3],\n",
       "       [4, 5, 6]])"
      ]
     },
     "execution_count": 63,
     "metadata": {},
     "output_type": "execute_result"
    }
   ],
   "source": [
    "a = np.array([[1,2,3], [4,5,6]])\n",
    "a"
   ]
  },
  {
   "cell_type": "code",
   "execution_count": 77,
   "metadata": {},
   "outputs": [
    {
     "data": {
      "text/plain": [
       "'i'"
      ]
     },
     "execution_count": 77,
     "metadata": {},
     "output_type": "execute_result"
    }
   ],
   "source": [
    "input = np.asarray(a)\n",
    "input.dtype.kind"
   ]
  },
  {
   "cell_type": "markdown",
   "metadata": {},
   "source": []
  },
  {
   "cell_type": "markdown",
   "metadata": {},
   "source": []
  }
 ],
 "metadata": {
  "interpreter": {
   "hash": "1293f946983e7bb2d84e7649f8ef7214686a6ed6e2618b614d3cb9d0c6b3647e"
  },
  "kernelspec": {
   "display_name": "Python 3.8.8 ('base')",
   "language": "python",
   "name": "python3"
  },
  "language_info": {
   "codemirror_mode": {
    "name": "ipython",
    "version": 3
   },
   "file_extension": ".py",
   "mimetype": "text/x-python",
   "name": "python",
   "nbconvert_exporter": "python",
   "pygments_lexer": "ipython3",
   "version": "3.8.8"
  },
  "orig_nbformat": 4
 },
 "nbformat": 4,
 "nbformat_minor": 2
}
